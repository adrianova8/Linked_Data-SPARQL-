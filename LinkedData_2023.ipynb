{
 "cells": [
  {
   "cell_type": "markdown",
   "metadata": {},
   "source": [
    "# Linked Data con Python\n",
    "\n",
    "Usaremos:\n",
    "\n",
    "* gastrodon: Toolkit to display, analyze, and visualize data and documents based on RDF graphs and the SPARQL query language using Pandas, Jupyter, and other Python ecosystem tools. https://github.com/paulhoule/gastrodon\n",
    "* sys\n",
    "* pandas \n",
    "\n",
    "<div class=\"alert alert-warning\" role=\"alert\" style=\"margin: 10px\">\n",
    "Para instalar la librería:<br>\n",
    "jovyan@9778f76bfaea:~$ /opt/conda/bin/pip install gastrodon\n",
    "</div>"
   ]
  },
  {
   "cell_type": "markdown",
   "metadata": {},
   "source": [
    "## Cargamos el entorno"
   ]
  },
  {
   "cell_type": "code",
   "execution_count": 1,
   "metadata": {},
   "outputs": [],
   "source": [
    "import sys\n",
    "from gastrodon import RemoteEndpoint,QName,ttl,URIRef,inline\n",
    "import pandas as pd\n",
    "import matplotlib.pyplot as plt\n",
    "import numpy as np\n",
    "from matplotlib import colors\n",
    "from matplotlib.ticker import PercentFormatter\n",
    "from IPython.display import display, HTML\n",
    "pd.options.display.width=120\n",
    "pd.options.display.max_colwidth=100"
   ]
  },
  {
   "cell_type": "markdown",
   "metadata": {},
   "source": [
    "Definimos los prefijos que de los \"namespace\" a utilizar"
   ]
  },
  {
   "cell_type": "code",
   "execution_count": 6,
   "metadata": {},
   "outputs": [],
   "source": [
    "prefixes=inline(\"\"\"\n",
    "    @prefix : <http://dbpedia.org/resource/> .\n",
    "    @prefix dbo: <http://dbpedia.org/ontology/> .\n",
    "    @prefix dbp: <http://dbpedia.org/property/> .\n",
    "    @prefix foaf: <http://xmlns.com/foaf/0.1/> .\n",
    "\"\"\").graph"
   ]
  },
  {
   "cell_type": "code",
   "execution_count": 7,
   "metadata": {},
   "outputs": [
    {
     "data": {
      "text/plain": [
       "<Graph identifier=Nc56246a8035e4ea989d693b661189f4a (<class 'rdflib.graph.Graph'>)>"
      ]
     },
     "execution_count": 7,
     "metadata": {},
     "output_type": "execute_result"
    }
   ],
   "source": [
    "prefixes"
   ]
  },
  {
   "cell_type": "markdown",
   "metadata": {},
   "source": [
    "Y el endpoint sobre el que vamos a hacer las consultas. En este caso, dbpedia."
   ]
  },
  {
   "cell_type": "code",
   "execution_count": 9,
   "metadata": {},
   "outputs": [],
   "source": [
    "endpoint=RemoteEndpoint(\n",
    "    \"http://dbpedia.org/sparql/\"\n",
    "    ,default_graph=\"http://dbpedia.org\"\n",
    "    ,prefixes=prefixes\n",
    "    ,base_uri=\"http://dbpedia.org/resource/\"\n",
    ")"
   ]
  },
  {
   "cell_type": "markdown",
   "metadata": {},
   "source": [
    "## Tripletas en DBpedia\n",
    "\n",
    "Con una consulta simple, podemos contar el número de tripletas"
   ]
  },
  {
   "cell_type": "code",
   "execution_count": 10,
   "metadata": {},
   "outputs": [
    {
     "data": {
      "text/plain": [
       "1141462733"
      ]
     },
     "execution_count": 10,
     "metadata": {},
     "output_type": "execute_result"
    }
   ],
   "source": [
    "count=endpoint.select(\"\"\"\n",
    "    SELECT (COUNT(*) AS ?count) { ?s ?p ?o .}\n",
    "\"\"\").at[0,\"count\"]\n",
    "count\n",
    "\n",
    "#hay millones de relaciones entre sujeto objeto y predicado en dbpedia"
   ]
  },
  {
   "cell_type": "markdown",
   "metadata": {},
   "source": [
    "## Número de predicados\n",
    "\n",
    "Para la siguiente consulta, hacemos una lista de predicados comunes. El número de respuestas en el endpoint de DBPEDIA está limitado a 10000.\n",
    "\n",
    "Each predicate is a relationship between a topic and either another topic or a literal value.  For instance,  the **rdf:type** predicate links a topic to another topic representing a class that the first topic is an instance,  for instance:\n",
    "\n",
    "```\n",
    "<Alan_Alda> rdf:type on:Person .\n",
    "```\n",
    "\n",
    "**rdfs:label**,  on the other hand,  links topics to literal values,  such as\n",
    "\n",
    "```\n",
    "<Alan_Alda> rdfs:label \n",
    "                \"Alan Alda\"@en,\n",
    "                \"アラン・アルダ\"@ja . \n",
    "```\n",
    "\n",
    "Strings in RDF (like the one above) are unusual compared to other computer languages because they can contain language tags,  a particularly helpful feature for multilingual databases such as DBpedia."
   ]
  },
  {
   "cell_type": "code",
   "execution_count": 11,
   "metadata": {
    "scrolled": true
   },
   "outputs": [
    {
     "data": {
      "text/html": [
       "<div>\n",
       "<style scoped>\n",
       "    .dataframe tbody tr th:only-of-type {\n",
       "        vertical-align: middle;\n",
       "    }\n",
       "\n",
       "    .dataframe tbody tr th {\n",
       "        vertical-align: top;\n",
       "    }\n",
       "\n",
       "    .dataframe thead th {\n",
       "        text-align: right;\n",
       "    }\n",
       "</style>\n",
       "<table border=\"1\" class=\"dataframe\">\n",
       "  <thead>\n",
       "    <tr style=\"text-align: right;\">\n",
       "      <th></th>\n",
       "      <th>count</th>\n",
       "    </tr>\n",
       "    <tr>\n",
       "      <th>p</th>\n",
       "      <th></th>\n",
       "    </tr>\n",
       "  </thead>\n",
       "  <tbody>\n",
       "    <tr>\n",
       "      <th>dbo:wikiPageWikiLink</th>\n",
       "      <td>254069466</td>\n",
       "    </tr>\n",
       "    <tr>\n",
       "      <th>rdf:type</th>\n",
       "      <td>146346566</td>\n",
       "    </tr>\n",
       "    <tr>\n",
       "      <th>owl:sameAs</th>\n",
       "      <td>98962903</td>\n",
       "    </tr>\n",
       "    <tr>\n",
       "      <th>rdfs:label</th>\n",
       "      <td>60428538</td>\n",
       "    </tr>\n",
       "    <tr>\n",
       "      <th>rdfs:comment</th>\n",
       "      <td>46587083</td>\n",
       "    </tr>\n",
       "    <tr>\n",
       "      <th>...</th>\n",
       "      <td>...</td>\n",
       "    </tr>\n",
       "    <tr>\n",
       "      <th>http://purl.org/dc/terms/title</th>\n",
       "      <td>1</td>\n",
       "    </tr>\n",
       "    <tr>\n",
       "      <th>http://purl.org/dc/terms/creator</th>\n",
       "      <td>1</td>\n",
       "    </tr>\n",
       "    <tr>\n",
       "      <th>dbp:party8name</th>\n",
       "      <td>1</td>\n",
       "    </tr>\n",
       "    <tr>\n",
       "      <th>dbp:rushLeader</th>\n",
       "      <td>1</td>\n",
       "    </tr>\n",
       "    <tr>\n",
       "      <th>dbp:row40To</th>\n",
       "      <td>1</td>\n",
       "    </tr>\n",
       "  </tbody>\n",
       "</table>\n",
       "<p>930 rows × 1 columns</p>\n",
       "</div>"
      ],
      "text/plain": [
       "                                      count\n",
       "p                                          \n",
       "dbo:wikiPageWikiLink              254069466\n",
       "rdf:type                          146346566\n",
       "owl:sameAs                         98962903\n",
       "rdfs:label                         60428538\n",
       "rdfs:comment                       46587083\n",
       "...                                     ...\n",
       "http://purl.org/dc/terms/title            1\n",
       "http://purl.org/dc/terms/creator          1\n",
       "dbp:party8name                            1\n",
       "dbp:rushLeader                            1\n",
       "dbp:row40To                               1\n",
       "\n",
       "[930 rows x 1 columns]"
      ]
     },
     "execution_count": 11,
     "metadata": {},
     "output_type": "execute_result"
    }
   ],
   "source": [
    "predicates=endpoint.select(\"\"\"\n",
    "    SELECT ?p (COUNT(*) AS ?count) { ?s ?p ?o .} GROUP BY ?p ORDER BY DESC(?count)\n",
    "\"\"\")\n",
    "predicates"
   ]
  },
  {
   "cell_type": "markdown",
   "metadata": {},
   "source": [
    "Podemos enseñar solo los N primeros resultados"
   ]
  },
  {
   "cell_type": "code",
   "execution_count": 7,
   "metadata": {
    "scrolled": true
   },
   "outputs": [
    {
     "data": {
      "text/html": [
       "<div>\n",
       "<style scoped>\n",
       "    .dataframe tbody tr th:only-of-type {\n",
       "        vertical-align: middle;\n",
       "    }\n",
       "\n",
       "    .dataframe tbody tr th {\n",
       "        vertical-align: top;\n",
       "    }\n",
       "\n",
       "    .dataframe thead th {\n",
       "        text-align: right;\n",
       "    }\n",
       "</style>\n",
       "<table border=\"1\" class=\"dataframe\">\n",
       "  <thead>\n",
       "    <tr style=\"text-align: right;\">\n",
       "      <th></th>\n",
       "      <th>count</th>\n",
       "    </tr>\n",
       "    <tr>\n",
       "      <th>p</th>\n",
       "      <th></th>\n",
       "    </tr>\n",
       "  </thead>\n",
       "  <tbody>\n",
       "    <tr>\n",
       "      <th>dbo:wikiPageWikiLink</th>\n",
       "      <td>254069466</td>\n",
       "    </tr>\n",
       "    <tr>\n",
       "      <th>rdf:type</th>\n",
       "      <td>146346566</td>\n",
       "    </tr>\n",
       "    <tr>\n",
       "      <th>rdfs:label</th>\n",
       "      <td>60428538</td>\n",
       "    </tr>\n",
       "    <tr>\n",
       "      <th>rdfs:comment</th>\n",
       "      <td>46587083</td>\n",
       "    </tr>\n",
       "    <tr>\n",
       "      <th>http://purl.org/dc/terms/subject</th>\n",
       "      <td>35204244</td>\n",
       "    </tr>\n",
       "    <tr>\n",
       "      <th>dbo:wikiPageID</th>\n",
       "      <td>20617798</td>\n",
       "    </tr>\n",
       "    <tr>\n",
       "      <th>dbo:wikiPageRevisionID</th>\n",
       "      <td>20617797</td>\n",
       "    </tr>\n",
       "    <tr>\n",
       "      <th>http://purl.org/dc/elements/1.1/language</th>\n",
       "      <td>16750551</td>\n",
       "    </tr>\n",
       "    <tr>\n",
       "      <th>foaf:depiction</th>\n",
       "      <td>8717410</td>\n",
       "    </tr>\n",
       "    <tr>\n",
       "      <th>http://www.w3.org/2004/02/skos/core#broader</th>\n",
       "      <td>4472601</td>\n",
       "    </tr>\n",
       "    <tr>\n",
       "      <th>dbp:name</th>\n",
       "      <td>4439088</td>\n",
       "    </tr>\n",
       "    <tr>\n",
       "      <th>foaf:name</th>\n",
       "      <td>4148833</td>\n",
       "    </tr>\n",
       "    <tr>\n",
       "      <th>dbo:wikiPageExternalLink</th>\n",
       "      <td>3815428</td>\n",
       "    </tr>\n",
       "    <tr>\n",
       "      <th>http://www.w3.org/2004/02/skos/core#prefLabel</th>\n",
       "      <td>2193008</td>\n",
       "    </tr>\n",
       "    <tr>\n",
       "      <th>dbp:birthPlace</th>\n",
       "      <td>1524456</td>\n",
       "    </tr>\n",
       "    <tr>\n",
       "      <th>dbo:birthPlace</th>\n",
       "      <td>1469160</td>\n",
       "    </tr>\n",
       "    <tr>\n",
       "      <th>http://www.w3.org/2003/01/geo/wgs84_pos#long</th>\n",
       "      <td>1264848</td>\n",
       "    </tr>\n",
       "    <tr>\n",
       "      <th>http://www.w3.org/2003/01/geo/wgs84_pos#lat</th>\n",
       "      <td>1264847</td>\n",
       "    </tr>\n",
       "    <tr>\n",
       "      <th>dbo:birthDate</th>\n",
       "      <td>990992</td>\n",
       "    </tr>\n",
       "    <tr>\n",
       "      <th>foaf:homepage</th>\n",
       "      <td>764769</td>\n",
       "    </tr>\n",
       "    <tr>\n",
       "      <th>rdfs:subClassOf</th>\n",
       "      <td>571239</td>\n",
       "    </tr>\n",
       "    <tr>\n",
       "      <th>owl:equivalentClass</th>\n",
       "      <td>569614</td>\n",
       "    </tr>\n",
       "    <tr>\n",
       "      <th>dbo:location</th>\n",
       "      <td>544396</td>\n",
       "    </tr>\n",
       "    <tr>\n",
       "      <th>dbp:deathPlace</th>\n",
       "      <td>472451</td>\n",
       "    </tr>\n",
       "    <tr>\n",
       "      <th>dbo:deathPlace</th>\n",
       "      <td>434772</td>\n",
       "    </tr>\n",
       "    <tr>\n",
       "      <th>dbo:deathDate</th>\n",
       "      <td>357520</td>\n",
       "    </tr>\n",
       "    <tr>\n",
       "      <th>rdfs:seeAlso</th>\n",
       "      <td>297045</td>\n",
       "    </tr>\n",
       "    <tr>\n",
       "      <th>owl:differentFrom</th>\n",
       "      <td>96499</td>\n",
       "    </tr>\n",
       "    <tr>\n",
       "      <th>foaf:nick</th>\n",
       "      <td>78108</td>\n",
       "    </tr>\n",
       "    <tr>\n",
       "      <th>http://purl.org/dc/elements/1.1/publisher</th>\n",
       "      <td>44502</td>\n",
       "    </tr>\n",
       "  </tbody>\n",
       "</table>\n",
       "</div>"
      ],
      "text/plain": [
       "                                                   count\n",
       "p                                                       \n",
       "dbo:wikiPageWikiLink                           254069466\n",
       "rdf:type                                       146346566\n",
       "rdfs:label                                      60428538\n",
       "rdfs:comment                                    46587083\n",
       "http://purl.org/dc/terms/subject                35204244\n",
       "dbo:wikiPageID                                  20617798\n",
       "dbo:wikiPageRevisionID                          20617797\n",
       "http://purl.org/dc/elements/1.1/language        16750551\n",
       "foaf:depiction                                   8717410\n",
       "http://www.w3.org/2004/02/skos/core#broader      4472601\n",
       "dbp:name                                         4439088\n",
       "foaf:name                                        4148833\n",
       "dbo:wikiPageExternalLink                         3815428\n",
       "http://www.w3.org/2004/02/skos/core#prefLabel    2193008\n",
       "dbp:birthPlace                                   1524456\n",
       "dbo:birthPlace                                   1469160\n",
       "http://www.w3.org/2003/01/geo/wgs84_pos#long     1264848\n",
       "http://www.w3.org/2003/01/geo/wgs84_pos#lat      1264847\n",
       "dbo:birthDate                                     990992\n",
       "foaf:homepage                                     764769\n",
       "rdfs:subClassOf                                   571239\n",
       "owl:equivalentClass                               569614\n",
       "dbo:location                                      544396\n",
       "dbp:deathPlace                                    472451\n",
       "dbo:deathPlace                                    434772\n",
       "dbo:deathDate                                     357520\n",
       "rdfs:seeAlso                                      297045\n",
       "owl:differentFrom                                  96499\n",
       "foaf:nick                                          78108\n",
       "http://purl.org/dc/elements/1.1/publisher          44502"
      ]
     },
     "execution_count": 7,
     "metadata": {},
     "output_type": "execute_result"
    }
   ],
   "source": [
    "predicates.head(30)"
   ]
  },
  {
   "cell_type": "markdown",
   "metadata": {},
   "source": [
    "O los últimos"
   ]
  },
  {
   "cell_type": "code",
   "execution_count": 8,
   "metadata": {},
   "outputs": [
    {
     "data": {
      "text/html": [
       "<div>\n",
       "<style scoped>\n",
       "    .dataframe tbody tr th:only-of-type {\n",
       "        vertical-align: middle;\n",
       "    }\n",
       "\n",
       "    .dataframe tbody tr th {\n",
       "        vertical-align: top;\n",
       "    }\n",
       "\n",
       "    .dataframe thead th {\n",
       "        text-align: right;\n",
       "    }\n",
       "</style>\n",
       "<table border=\"1\" class=\"dataframe\">\n",
       "  <thead>\n",
       "    <tr style=\"text-align: right;\">\n",
       "      <th></th>\n",
       "      <th>count</th>\n",
       "    </tr>\n",
       "    <tr>\n",
       "      <th>p</th>\n",
       "      <th></th>\n",
       "    </tr>\n",
       "  </thead>\n",
       "  <tbody>\n",
       "    <tr>\n",
       "      <th>http://purl.org/dc/terms/description</th>\n",
       "      <td>1</td>\n",
       "    </tr>\n",
       "    <tr>\n",
       "      <th>http://purl.org/dc/terms/source</th>\n",
       "      <td>1</td>\n",
       "    </tr>\n",
       "    <tr>\n",
       "      <th>owl:versionInfo</th>\n",
       "      <td>1</td>\n",
       "    </tr>\n",
       "    <tr>\n",
       "      <th>http://purl.org/dc/terms/title</th>\n",
       "      <td>1</td>\n",
       "    </tr>\n",
       "    <tr>\n",
       "      <th>http://purl.org/dc/terms/creator</th>\n",
       "      <td>1</td>\n",
       "    </tr>\n",
       "  </tbody>\n",
       "</table>\n",
       "</div>"
      ],
      "text/plain": [
       "                                      count\n",
       "p                                          \n",
       "http://purl.org/dc/terms/description      1\n",
       "http://purl.org/dc/terms/source           1\n",
       "owl:versionInfo                           1\n",
       "http://purl.org/dc/terms/title            1\n",
       "http://purl.org/dc/terms/creator          1"
      ]
     },
     "execution_count": 8,
     "metadata": {},
     "output_type": "execute_result"
    }
   ],
   "source": [
    "predicates.tail()"
   ]
  },
  {
   "cell_type": "markdown",
   "metadata": {},
   "source": [
    "## Visualización de resultados"
   ]
  },
  {
   "cell_type": "markdown",
   "metadata": {},
   "source": [
    "**dbo:Image** Algunos resultados de dbpedia son links a imagenes, que gracias a Jupyter, podemos visualizarlos"
   ]
  },
  {
   "cell_type": "code",
   "execution_count": 12,
   "metadata": {},
   "outputs": [
    {
     "data": {
      "text/html": [
       "<div>\n",
       "<style scoped>\n",
       "    .dataframe tbody tr th:only-of-type {\n",
       "        vertical-align: middle;\n",
       "    }\n",
       "\n",
       "    .dataframe tbody tr th {\n",
       "        vertical-align: top;\n",
       "    }\n",
       "\n",
       "    .dataframe thead th {\n",
       "        text-align: right;\n",
       "    }\n",
       "</style>\n",
       "<table border=\"1\" class=\"dataframe\">\n",
       "  <thead>\n",
       "    <tr style=\"text-align: right;\">\n",
       "      <th></th>\n",
       "      <th>count</th>\n",
       "    </tr>\n",
       "  </thead>\n",
       "  <tbody>\n",
       "    <tr>\n",
       "      <th>0</th>\n",
       "      <td>483639</td>\n",
       "    </tr>\n",
       "  </tbody>\n",
       "</table>\n",
       "</div>"
      ],
      "text/plain": [
       "    count\n",
       "0  483639"
      ]
     },
     "execution_count": 12,
     "metadata": {},
     "output_type": "execute_result"
    }
   ],
   "source": [
    "endpoint.select(\"\"\"\n",
    "    SELECT (COUNT(*) AS ?count)\n",
    "    { SELECT DISTINCT ?type { ?s a ?type .} }\n",
    "\"\"\")"
   ]
  },
  {
   "cell_type": "code",
   "execution_count": 13,
   "metadata": {},
   "outputs": [
    {
     "data": {
      "text/html": [
       "<div>\n",
       "<style scoped>\n",
       "    .dataframe tbody tr th:only-of-type {\n",
       "        vertical-align: middle;\n",
       "    }\n",
       "\n",
       "    .dataframe tbody tr th {\n",
       "        vertical-align: top;\n",
       "    }\n",
       "\n",
       "    .dataframe thead th {\n",
       "        text-align: right;\n",
       "    }\n",
       "</style>\n",
       "<table border=\"1\" class=\"dataframe\">\n",
       "  <thead>\n",
       "    <tr style=\"text-align: right;\">\n",
       "      <th></th>\n",
       "      <th>count</th>\n",
       "    </tr>\n",
       "    <tr>\n",
       "      <th>type</th>\n",
       "      <th></th>\n",
       "    </tr>\n",
       "  </thead>\n",
       "  <tbody>\n",
       "    <tr>\n",
       "      <th>dbo:Image</th>\n",
       "      <td>11894660</td>\n",
       "    </tr>\n",
       "    <tr>\n",
       "      <th>dbo:CareerStation</th>\n",
       "      <td>2687734</td>\n",
       "    </tr>\n",
       "    <tr>\n",
       "      <th>dbo:Person</th>\n",
       "      <td>2268103</td>\n",
       "    </tr>\n",
       "    <tr>\n",
       "      <th>dbo:TimePeriod</th>\n",
       "      <td>2213022</td>\n",
       "    </tr>\n",
       "    <tr>\n",
       "      <th>dbo:Eukaryote</th>\n",
       "      <td>1967953</td>\n",
       "    </tr>\n",
       "    <tr>\n",
       "      <th>...</th>\n",
       "      <td>...</td>\n",
       "    </tr>\n",
       "    <tr>\n",
       "      <th>dbo:BaseballSeason</th>\n",
       "      <td>271</td>\n",
       "    </tr>\n",
       "    <tr>\n",
       "      <th>dbo:Rower</th>\n",
       "      <td>265</td>\n",
       "    </tr>\n",
       "    <tr>\n",
       "      <th>dbo:AmericanLeader</th>\n",
       "      <td>263</td>\n",
       "    </tr>\n",
       "    <tr>\n",
       "      <th>dbo:EurovisionSongContestEntry</th>\n",
       "      <td>260</td>\n",
       "    </tr>\n",
       "    <tr>\n",
       "      <th>dbo:Archaea</th>\n",
       "      <td>259</td>\n",
       "    </tr>\n",
       "  </tbody>\n",
       "</table>\n",
       "<p>415 rows × 1 columns</p>\n",
       "</div>"
      ],
      "text/plain": [
       "                                   count\n",
       "type                                    \n",
       "dbo:Image                       11894660\n",
       "dbo:CareerStation                2687734\n",
       "dbo:Person                       2268103\n",
       "dbo:TimePeriod                   2213022\n",
       "dbo:Eukaryote                    1967953\n",
       "...                                  ...\n",
       "dbo:BaseballSeason                   271\n",
       "dbo:Rower                            265\n",
       "dbo:AmericanLeader                   263\n",
       "dbo:EurovisionSongContestEntry       260\n",
       "dbo:Archaea                          259\n",
       "\n",
       "[415 rows x 1 columns]"
      ]
     },
     "execution_count": 13,
     "metadata": {},
     "output_type": "execute_result"
    }
   ],
   "source": [
    "types=endpoint.select(\"\"\"\n",
    "    SELECT ?type (COUNT(*) AS ?count)\n",
    "    { ?s a ?type .} \n",
    "    GROUP BY ?type ORDER BY DESC(?count)\n",
    "\"\"\")\n",
    "types[types.index.str.startswith('dbo:')]"
   ]
  },
  {
   "cell_type": "code",
   "execution_count": 14,
   "metadata": {
    "scrolled": true
   },
   "outputs": [
    {
     "data": {
      "text/html": [
       "<div>\n",
       "<style scoped>\n",
       "    .dataframe tbody tr th:only-of-type {\n",
       "        vertical-align: middle;\n",
       "    }\n",
       "\n",
       "    .dataframe tbody tr th {\n",
       "        vertical-align: top;\n",
       "    }\n",
       "\n",
       "    .dataframe thead th {\n",
       "        text-align: right;\n",
       "    }\n",
       "</style>\n",
       "<table border=\"1\" class=\"dataframe\">\n",
       "  <thead>\n",
       "    <tr style=\"text-align: right;\">\n",
       "      <th></th>\n",
       "      <th>that</th>\n",
       "    </tr>\n",
       "  </thead>\n",
       "  <tbody>\n",
       "    <tr>\n",
       "      <th>0</th>\n",
       "      <td>http://commons.wikimedia.org/wiki/Special:FilePath/19th_century_Janam_Sakhi,_Guru_Nanak_meets_Fi...</td>\n",
       "    </tr>\n",
       "    <tr>\n",
       "      <th>1</th>\n",
       "      <td>http://commons.wikimedia.org/wiki/Special:FilePath/19th_century_Janam_Sakhi,_Guru_Nanak_meets_Ka...</td>\n",
       "    </tr>\n",
       "    <tr>\n",
       "      <th>2</th>\n",
       "      <td>http://commons.wikimedia.org/wiki/Special:FilePath/19th_century_Janam_Sakhi,_Guru_Nanak_meets_Ka...</td>\n",
       "    </tr>\n",
       "    <tr>\n",
       "      <th>3</th>\n",
       "      <td>http://commons.wikimedia.org/wiki/Special:FilePath/19th_century_Janam_Sakhi,_Guru_Nanak_meets_Na...</td>\n",
       "    </tr>\n",
       "    <tr>\n",
       "      <th>4</th>\n",
       "      <td>http://commons.wikimedia.org/wiki/Special:FilePath/19th_century_Janam_Sakhi,_Guru_Nanak_meets_Na...</td>\n",
       "    </tr>\n",
       "    <tr>\n",
       "      <th>5</th>\n",
       "      <td>http://commons.wikimedia.org/wiki/Special:FilePath/19th_century_Janam_Sakhi,_Guru_Nanak_meets_Su...</td>\n",
       "    </tr>\n",
       "    <tr>\n",
       "      <th>6</th>\n",
       "      <td>http://commons.wikimedia.org/wiki/Special:FilePath/19th_century_Janam_Sakhi,_Guru_Nanak_meets_Su...</td>\n",
       "    </tr>\n",
       "    <tr>\n",
       "      <th>7</th>\n",
       "      <td>http://commons.wikimedia.org/wiki/Special:FilePath/19th_century_Janam_Sakhi,_Guru_Nanak_meets_th...</td>\n",
       "    </tr>\n",
       "    <tr>\n",
       "      <th>8</th>\n",
       "      <td>http://commons.wikimedia.org/wiki/Special:FilePath/19th_century_Janam_Sakhi,_Guru_Nanak_meets_th...</td>\n",
       "    </tr>\n",
       "    <tr>\n",
       "      <th>9</th>\n",
       "      <td>http://commons.wikimedia.org/wiki/Special:FilePath/19th_century_Janam_sakhi,_Lahore,_Guru_Nanak_...</td>\n",
       "    </tr>\n",
       "  </tbody>\n",
       "</table>\n",
       "</div>"
      ],
      "text/plain": [
       "                                                                                                  that\n",
       "0  http://commons.wikimedia.org/wiki/Special:FilePath/19th_century_Janam_Sakhi,_Guru_Nanak_meets_Fi...\n",
       "1  http://commons.wikimedia.org/wiki/Special:FilePath/19th_century_Janam_Sakhi,_Guru_Nanak_meets_Ka...\n",
       "2  http://commons.wikimedia.org/wiki/Special:FilePath/19th_century_Janam_Sakhi,_Guru_Nanak_meets_Ka...\n",
       "3  http://commons.wikimedia.org/wiki/Special:FilePath/19th_century_Janam_Sakhi,_Guru_Nanak_meets_Na...\n",
       "4  http://commons.wikimedia.org/wiki/Special:FilePath/19th_century_Janam_Sakhi,_Guru_Nanak_meets_Na...\n",
       "5  http://commons.wikimedia.org/wiki/Special:FilePath/19th_century_Janam_Sakhi,_Guru_Nanak_meets_Su...\n",
       "6  http://commons.wikimedia.org/wiki/Special:FilePath/19th_century_Janam_Sakhi,_Guru_Nanak_meets_Su...\n",
       "7  http://commons.wikimedia.org/wiki/Special:FilePath/19th_century_Janam_Sakhi,_Guru_Nanak_meets_th...\n",
       "8  http://commons.wikimedia.org/wiki/Special:FilePath/19th_century_Janam_Sakhi,_Guru_Nanak_meets_th...\n",
       "9  http://commons.wikimedia.org/wiki/Special:FilePath/19th_century_Janam_sakhi,_Lahore,_Guru_Nanak_..."
      ]
     },
     "execution_count": 14,
     "metadata": {},
     "output_type": "execute_result"
    }
   ],
   "source": [
    "pics = endpoint.select(\"\"\"\n",
    "    SELECT ?that { \n",
    "        ?that a dbo:Image\n",
    "    } LIMIT 10\n",
    "\"\"\")\n",
    "pics"
   ]
  },
  {
   "cell_type": "code",
   "execution_count": 23,
   "metadata": {},
   "outputs": [
    {
     "data": {
      "text/html": [
       "<img src=\"http://commons.wikimedia.org/wiki/Special:FilePath/19th_century_Janam_Sakhi,_Guru_Nanak_meets_Firanda_rabab_maker.jpg?width=300\">"
      ],
      "text/plain": [
       "<IPython.core.display.HTML object>"
      ]
     },
     "execution_count": 23,
     "metadata": {},
     "output_type": "execute_result"
    }
   ],
   "source": [
    "HTML('<img src=\"{0}\">'.format(pics.at[0,'that']))"
   ]
  },
  {
   "cell_type": "markdown",
   "metadata": {},
   "source": [
    "## Ejercicio 1"
   ]
  },
  {
   "cell_type": "markdown",
   "metadata": {},
   "source": [
    "Muestra la imagen de un escritor/a vivo"
   ]
  },
  {
   "cell_type": "code",
   "execution_count": 28,
   "metadata": {},
   "outputs": [
    {
     "data": {
      "text/html": [
       "<div>\n",
       "<style scoped>\n",
       "    .dataframe tbody tr th:only-of-type {\n",
       "        vertical-align: middle;\n",
       "    }\n",
       "\n",
       "    .dataframe tbody tr th {\n",
       "        vertical-align: top;\n",
       "    }\n",
       "\n",
       "    .dataframe thead th {\n",
       "        text-align: right;\n",
       "    }\n",
       "</style>\n",
       "<table border=\"1\" class=\"dataframe\">\n",
       "  <thead>\n",
       "    <tr style=\"text-align: right;\">\n",
       "      <th></th>\n",
       "      <th>nombre</th>\n",
       "      <th>foto</th>\n",
       "    </tr>\n",
       "  </thead>\n",
       "  <tbody>\n",
       "    <tr>\n",
       "      <th>0</th>\n",
       "      <td>Alister McGrath</td>\n",
       "      <td>http://commons.wikimedia.org/wiki/Special:FilePath/Alister_McGrath.jpg</td>\n",
       "    </tr>\n",
       "    <tr>\n",
       "      <th>1</th>\n",
       "      <td>Alka Saraogi</td>\n",
       "      <td>http://commons.wikimedia.org/wiki/Special:FilePath/Alka_Saraogi.jpg</td>\n",
       "    </tr>\n",
       "    <tr>\n",
       "      <th>2</th>\n",
       "      <td>Allen Barnett</td>\n",
       "      <td>http://commons.wikimedia.org/wiki/Special:FilePath/ALLENBARNETT_(cropped).jpg</td>\n",
       "    </tr>\n",
       "    <tr>\n",
       "      <th>3</th>\n",
       "      <td>Allen Klein</td>\n",
       "      <td>http://commons.wikimedia.org/wiki/Special:FilePath/Allen-Klein-author-in-2015.jpg</td>\n",
       "    </tr>\n",
       "    <tr>\n",
       "      <th>4</th>\n",
       "      <td>Allen Kurzweil</td>\n",
       "      <td>http://commons.wikimedia.org/wiki/Special:FilePath/Allen_Kurzweil_Wiki2007.jpg</td>\n",
       "    </tr>\n",
       "    <tr>\n",
       "      <th>...</th>\n",
       "      <td>...</td>\n",
       "      <td>...</td>\n",
       "    </tr>\n",
       "    <tr>\n",
       "      <th>95</th>\n",
       "      <td>Andreas Eschbach</td>\n",
       "      <td>http://commons.wikimedia.org/wiki/Special:FilePath/MK30243_Andreas_Eschbach.jpg</td>\n",
       "    </tr>\n",
       "    <tr>\n",
       "      <th>96</th>\n",
       "      <td>Andreas Horvath</td>\n",
       "      <td>http://commons.wikimedia.org/wiki/Special:FilePath/Andreas_Horvath.jpg</td>\n",
       "    </tr>\n",
       "    <tr>\n",
       "      <th>97</th>\n",
       "      <td>Andreas Wahl</td>\n",
       "      <td>http://commons.wikimedia.org/wiki/Special:FilePath/Andreas_Wahl_på_AppWorks_2010.jpg</td>\n",
       "    </tr>\n",
       "    <tr>\n",
       "      <th>98</th>\n",
       "      <td>Andreas Wahl</td>\n",
       "      <td>http://commons.wikimedia.org/wiki/Special:FilePath/Andreas_Wahl_på_Sommeråpent_2013.jpg</td>\n",
       "    </tr>\n",
       "    <tr>\n",
       "      <th>99</th>\n",
       "      <td>Andrei Codrescu</td>\n",
       "      <td>http://commons.wikimedia.org/wiki/Special:FilePath/AndreiCodrescu.jpg</td>\n",
       "    </tr>\n",
       "  </tbody>\n",
       "</table>\n",
       "<p>100 rows × 2 columns</p>\n",
       "</div>"
      ],
      "text/plain": [
       "              nombre                                                                                     foto\n",
       "0    Alister McGrath                   http://commons.wikimedia.org/wiki/Special:FilePath/Alister_McGrath.jpg\n",
       "1       Alka Saraogi                      http://commons.wikimedia.org/wiki/Special:FilePath/Alka_Saraogi.jpg\n",
       "2      Allen Barnett            http://commons.wikimedia.org/wiki/Special:FilePath/ALLENBARNETT_(cropped).jpg\n",
       "3        Allen Klein        http://commons.wikimedia.org/wiki/Special:FilePath/Allen-Klein-author-in-2015.jpg\n",
       "4     Allen Kurzweil           http://commons.wikimedia.org/wiki/Special:FilePath/Allen_Kurzweil_Wiki2007.jpg\n",
       "..               ...                                                                                      ...\n",
       "95  Andreas Eschbach          http://commons.wikimedia.org/wiki/Special:FilePath/MK30243_Andreas_Eschbach.jpg\n",
       "96   Andreas Horvath                   http://commons.wikimedia.org/wiki/Special:FilePath/Andreas_Horvath.jpg\n",
       "97      Andreas Wahl     http://commons.wikimedia.org/wiki/Special:FilePath/Andreas_Wahl_på_AppWorks_2010.jpg\n",
       "98      Andreas Wahl  http://commons.wikimedia.org/wiki/Special:FilePath/Andreas_Wahl_på_Sommeråpent_2013.jpg\n",
       "99   Andrei Codrescu                    http://commons.wikimedia.org/wiki/Special:FilePath/AndreiCodrescu.jpg\n",
       "\n",
       "[100 rows x 2 columns]"
      ]
     },
     "execution_count": 28,
     "metadata": {},
     "output_type": "execute_result"
    }
   ],
   "source": [
    "escritores = endpoint.select(\"\"\"\n",
    "SELECT ?nombre ?foto\n",
    "WHERE{\n",
    "    ?autor a dbo:Writer .\n",
    "    ?autor foaf:name ?nombre .\n",
    "    ?autor dbo:birthDate ?fechaNac .\n",
    "    ?autor foaf:depiction ?foto\n",
    "    FILTER NOT EXISTS { ?autor dbo:deathDate ?death. }\n",
    "} \n",
    "LIMIT 100\n",
    "\n",
    "\n",
    "\n",
    "\"\"\")\n",
    "escritores"
   ]
  },
  {
   "cell_type": "code",
   "execution_count": 41,
   "metadata": {},
   "outputs": [
    {
     "data": {
      "text/html": [
       "<img src=\"http://commons.wikimedia.org/wiki/Special:FilePath/AndreiCodrescu.jpg\">"
      ],
      "text/plain": [
       "<IPython.core.display.HTML object>"
      ]
     },
     "execution_count": 41,
     "metadata": {},
     "output_type": "execute_result"
    }
   ],
   "source": [
    "HTML('<img src=\"{0}\">'.format(escritores.at[99,'foto']))"
   ]
  },
  {
   "cell_type": "markdown",
   "metadata": {},
   "source": [
    "Los datos se pueden recoger en distintos tipos de estructuras para mostrarlos en gráficos. Veamos un ejemplo de un diagrama de barras."
   ]
  },
  {
   "cell_type": "code",
   "execution_count": 42,
   "metadata": {},
   "outputs": [],
   "source": [
    "places = endpoint.select(\"\"\"\n",
    "SELECT ?city ?population\n",
    "WHERE{\n",
    "    ?city a dbo:PopulatedPlace .\n",
    "    ?city dbo:populationTotal ?population\n",
    "    FILTER (?population > 1000000)\n",
    "} \n",
    "ORDER BY ASC(?population)\n",
    "LIMIT 100\n",
    "\"\"\")"
   ]
  },
  {
   "cell_type": "code",
   "execution_count": 43,
   "metadata": {},
   "outputs": [
    {
     "data": {
      "text/html": [
       "<div>\n",
       "<style scoped>\n",
       "    .dataframe tbody tr th:only-of-type {\n",
       "        vertical-align: middle;\n",
       "    }\n",
       "\n",
       "    .dataframe tbody tr th {\n",
       "        vertical-align: top;\n",
       "    }\n",
       "\n",
       "    .dataframe thead th {\n",
       "        text-align: right;\n",
       "    }\n",
       "</style>\n",
       "<table border=\"1\" class=\"dataframe\">\n",
       "  <thead>\n",
       "    <tr style=\"text-align: right;\">\n",
       "      <th></th>\n",
       "      <th>city</th>\n",
       "      <th>population</th>\n",
       "    </tr>\n",
       "  </thead>\n",
       "  <tbody>\n",
       "    <tr>\n",
       "      <th>0</th>\n",
       "      <td>&lt;Oshodi-Isolo&gt;</td>\n",
       "      <td>1000509</td>\n",
       "    </tr>\n",
       "    <tr>\n",
       "      <th>1</th>\n",
       "      <td>&lt;Fizi_Territory&gt;</td>\n",
       "      <td>1000674</td>\n",
       "    </tr>\n",
       "    <tr>\n",
       "      <th>2</th>\n",
       "      <td>&lt;Latifabad_Tehsil&gt;</td>\n",
       "      <td>1000761</td>\n",
       "    </tr>\n",
       "    <tr>\n",
       "      <th>3</th>\n",
       "      <td>&lt;Muğla&gt;</td>\n",
       "      <td>1000773</td>\n",
       "    </tr>\n",
       "    <tr>\n",
       "      <th>4</th>\n",
       "      <td>&lt;Muğla_Province&gt;</td>\n",
       "      <td>1000773</td>\n",
       "    </tr>\n",
       "    <tr>\n",
       "      <th>5</th>\n",
       "      <td>&lt;Lakhisarai_district&gt;</td>\n",
       "      <td>1000912</td>\n",
       "    </tr>\n",
       "    <tr>\n",
       "      <th>6</th>\n",
       "      <td>&lt;Quetta&gt;</td>\n",
       "      <td>1001205</td>\n",
       "    </tr>\n",
       "    <tr>\n",
       "      <th>7</th>\n",
       "      <td>&lt;Haripur_District&gt;</td>\n",
       "      <td>1001515</td>\n",
       "    </tr>\n",
       "    <tr>\n",
       "      <th>8</th>\n",
       "      <td>&lt;Granma_Province&gt;</td>\n",
       "      <td>1001678</td>\n",
       "    </tr>\n",
       "    <tr>\n",
       "      <th>9</th>\n",
       "      <td>&lt;Kota,_Rajasthan&gt;</td>\n",
       "      <td>1001694</td>\n",
       "    </tr>\n",
       "  </tbody>\n",
       "</table>\n",
       "</div>"
      ],
      "text/plain": [
       "                    city  population\n",
       "0         <Oshodi-Isolo>     1000509\n",
       "1       <Fizi_Territory>     1000674\n",
       "2     <Latifabad_Tehsil>     1000761\n",
       "3                <Muğla>     1000773\n",
       "4       <Muğla_Province>     1000773\n",
       "5  <Lakhisarai_district>     1000912\n",
       "6               <Quetta>     1001205\n",
       "7     <Haripur_District>     1001515\n",
       "8      <Granma_Province>     1001678\n",
       "9      <Kota,_Rajasthan>     1001694"
      ]
     },
     "execution_count": 43,
     "metadata": {},
     "output_type": "execute_result"
    }
   ],
   "source": [
    "places.head(10)"
   ]
  },
  {
   "cell_type": "code",
   "execution_count": 44,
   "metadata": {},
   "outputs": [
    {
     "data": {
      "text/plain": [
       "0           <Oshodi-Isolo>\n",
       "1         <Fizi_Territory>\n",
       "2       <Latifabad_Tehsil>\n",
       "3                  <Muğla>\n",
       "4         <Muğla_Province>\n",
       "5    <Lakhisarai_district>\n",
       "6                 <Quetta>\n",
       "7       <Haripur_District>\n",
       "8        <Granma_Province>\n",
       "9        <Kota,_Rajasthan>\n",
       "Name: city, dtype: object"
      ]
     },
     "execution_count": 44,
     "metadata": {},
     "output_type": "execute_result"
    },
    {
     "data": {
      "image/png": "[encoded data removed]",
      "text/plain": [
       "<Figure size 640x480 with 1 Axes>"
      ]
     },
     "metadata": {},
     "output_type": "display_data"
    }
   ],
   "source": [
    "places.head(10).hist()\n",
    "places.head(10)['city']"
   ]
  },
  {
   "cell_type": "markdown",
   "metadata": {},
   "source": [
    "# Ejercicios de consultas"
   ]
  },
  {
   "cell_type": "markdown",
   "metadata": {},
   "source": [
    "<div class=\"alert alert-warning\" role=\"alert\" style=\"margin: 10px\">\n",
    "La librería a veces tiene problemas con las fechas. Si es así, colocal la consulta en el endpoint directamente para comprobar que si el problema está en la consulta o en el paquete.\n",
    "</div>"
   ]
  },
  {
   "cell_type": "code",
   "execution_count": 97,
   "metadata": {},
   "outputs": [],
   "source": [
    "# Definimos los prefijos que representan las URIs de los recursos de dbpedia\n",
    "prefixes=inline(\"\"\"\n",
    "    @prefix : <http://dbpedia.org/resource/> .\n",
    "    @prefix dbo: <http://dbpedia.org/ontology/> .\n",
    "    @prefix dbp: <http://dbpedia.org/property/> .\n",
    "    @prefix foaf: <http://xmlns.com/foaf/0.1/> .\n",
    "    @prefix dbr: <http://dbpedia.org/resource/>.\n",
    "    @prefix rdfs: <http://www.w3.org/2000/01/rdf-schema#> .\n",
    "\"\"\").graph"
   ]
  },
  {
   "cell_type": "code",
   "execution_count": 46,
   "metadata": {},
   "outputs": [],
   "source": [
    "# Obtenemos el acceso a los datos de la base de datos de dbpedia mediante el protocolo SPARQL\n",
    "endpoint=RemoteEndpoint(\n",
    "    \"http://dbpedia.org/sparql/\"\n",
    "    ,default_graph=\"http://dbpedia.org\"\n",
    "    ,prefixes=prefixes\n",
    "    ,base_uri=\"http://dbpedia.org/resource/\"\n",
    ")"
   ]
  },
  {
   "cell_type": "markdown",
   "metadata": {},
   "source": [
    "1. Obtener el tamaño de las ciudades más extensas de España\n"
   ]
  },
  {
   "cell_type": "code",
   "execution_count": 56,
   "metadata": {
    "scrolled": true
   },
   "outputs": [],
   "source": [
    "size_cities = endpoint.select(\"\"\"\n",
    "SELECT ?city ?area\n",
    "WHERE {\n",
    "  ?city rdf:type dbo:City .\n",
    "  ?city dbo:country dbr:Spain .\n",
    "  ?city dbo:areaTotal ?area \n",
    "}\n",
    "ORDER BY DESC(?area)\n",
    "LIMIT 10\n",
    "\"\"\")"
   ]
  },
  {
   "cell_type": "code",
   "execution_count": 60,
   "metadata": {},
   "outputs": [
    {
     "data": {
      "text/html": [
       "<div>\n",
       "<style scoped>\n",
       "    .dataframe tbody tr th:only-of-type {\n",
       "        vertical-align: middle;\n",
       "    }\n",
       "\n",
       "    .dataframe tbody tr th {\n",
       "        vertical-align: top;\n",
       "    }\n",
       "\n",
       "    .dataframe thead th {\n",
       "        text-align: right;\n",
       "    }\n",
       "</style>\n",
       "<table border=\"1\" class=\"dataframe\">\n",
       "  <thead>\n",
       "    <tr style=\"text-align: right;\">\n",
       "      <th></th>\n",
       "      <th>city</th>\n",
       "      <th>area</th>\n",
       "    </tr>\n",
       "  </thead>\n",
       "  <tbody>\n",
       "    <tr>\n",
       "      <th>0</th>\n",
       "      <td>&lt;Albacete&gt;</td>\n",
       "      <td>1125910000</td>\n",
       "    </tr>\n",
       "    <tr>\n",
       "      <th>1</th>\n",
       "      <td>&lt;Zaragoza&gt;</td>\n",
       "      <td>973780000</td>\n",
       "    </tr>\n",
       "    <tr>\n",
       "      <th>2</th>\n",
       "      <td>&lt;Cuenca,_Spain&gt;</td>\n",
       "      <td>911060000</td>\n",
       "    </tr>\n",
       "    <tr>\n",
       "      <th>3</th>\n",
       "      <td>&lt;Hornachuelos&gt;</td>\n",
       "      <td>909220000</td>\n",
       "    </tr>\n",
       "    <tr>\n",
       "      <th>4</th>\n",
       "      <td>&lt;Murcia&gt;</td>\n",
       "      <td>881860000</td>\n",
       "    </tr>\n",
       "  </tbody>\n",
       "</table>\n",
       "</div>"
      ],
      "text/plain": [
       "              city        area\n",
       "0       <Albacete>  1125910000\n",
       "1       <Zaragoza>   973780000\n",
       "2  <Cuenca,_Spain>   911060000\n",
       "3   <Hornachuelos>   909220000\n",
       "4         <Murcia>   881860000"
      ]
     },
     "execution_count": 60,
     "metadata": {},
     "output_type": "execute_result"
    }
   ],
   "source": [
    "size_cities.head()"
   ]
  },
  {
   "cell_type": "markdown",
   "metadata": {},
   "source": [
    "2. Comunidad autónoma a la que pertenece cada ciudad"
   ]
  },
  {
   "cell_type": "code",
   "execution_count": 180,
   "metadata": {},
   "outputs": [],
   "source": [
    "ccaa_city = endpoint.select(\"\"\"\n",
    "SELECT DISTINCT ?city_name ?region_name\n",
    "WHERE {\n",
    "  ?city rdf:type dbo:City ;\n",
    "   dbo:country dbr:Spain ;\n",
    "   rdfs:label ?city_name ;\n",
    "   dbo:subdivision ?subdivision .\n",
    "  ?subdivision dbo:type dbr:Autonomous_communities_of_Spain .\n",
    "  ?subdivision rdfs:label ?region_name .\n",
    "  FILTER (LANG(?city_name) = \"es\") \n",
    "  FILTER (LANG(?region_name) = \"es\")\n",
    "} LIMIT 200\n",
    "\"\"\")"
   ]
  },
  {
   "cell_type": "code",
   "execution_count": 181,
   "metadata": {},
   "outputs": [
    {
     "data": {
      "text/html": [
       "<div>\n",
       "<style scoped>\n",
       "    .dataframe tbody tr th:only-of-type {\n",
       "        vertical-align: middle;\n",
       "    }\n",
       "\n",
       "    .dataframe tbody tr th {\n",
       "        vertical-align: top;\n",
       "    }\n",
       "\n",
       "    .dataframe thead th {\n",
       "        text-align: right;\n",
       "    }\n",
       "</style>\n",
       "<table border=\"1\" class=\"dataframe\">\n",
       "  <thead>\n",
       "    <tr style=\"text-align: right;\">\n",
       "      <th></th>\n",
       "      <th>city_name</th>\n",
       "      <th>region_name</th>\n",
       "    </tr>\n",
       "  </thead>\n",
       "  <tbody>\n",
       "    <tr>\n",
       "      <th>0</th>\n",
       "      <td>Río Daroca</td>\n",
       "      <td>Aragon (Aude)</td>\n",
       "    </tr>\n",
       "    <tr>\n",
       "      <th>1</th>\n",
       "      <td>Daroca</td>\n",
       "      <td>Aragon (Aude)</td>\n",
       "    </tr>\n",
       "    <tr>\n",
       "      <th>2</th>\n",
       "      <td>Delicias (Zaragoza)</td>\n",
       "      <td>Aragon (Aude)</td>\n",
       "    </tr>\n",
       "    <tr>\n",
       "      <th>3</th>\n",
       "      <td>Vigo</td>\n",
       "      <td>Galicia</td>\n",
       "    </tr>\n",
       "    <tr>\n",
       "      <th>4</th>\n",
       "      <td>Somozas (parroquia)</td>\n",
       "      <td>Galicia</td>\n",
       "    </tr>\n",
       "    <tr>\n",
       "      <th>...</th>\n",
       "      <td>...</td>\n",
       "      <td>...</td>\n",
       "    </tr>\n",
       "    <tr>\n",
       "      <th>195</th>\n",
       "      <td>Cuenca (España)</td>\n",
       "      <td>Castilla-La Mancha</td>\n",
       "    </tr>\n",
       "    <tr>\n",
       "      <th>196</th>\n",
       "      <td>Cuenca (distrito)</td>\n",
       "      <td>Castilla-La Mancha</td>\n",
       "    </tr>\n",
       "    <tr>\n",
       "      <th>197</th>\n",
       "      <td>Puertollano</td>\n",
       "      <td>Castilla-La Mancha</td>\n",
       "    </tr>\n",
       "    <tr>\n",
       "      <th>198</th>\n",
       "      <td>Sigüenza</td>\n",
       "      <td>Castilla-La Mancha</td>\n",
       "    </tr>\n",
       "    <tr>\n",
       "      <th>199</th>\n",
       "      <td>Bolaños de Calatrava</td>\n",
       "      <td>Castilla-La Mancha</td>\n",
       "    </tr>\n",
       "  </tbody>\n",
       "</table>\n",
       "<p>200 rows × 2 columns</p>\n",
       "</div>"
      ],
      "text/plain": [
       "                city_name         region_name\n",
       "0              Río Daroca       Aragon (Aude)\n",
       "1                  Daroca       Aragon (Aude)\n",
       "2     Delicias (Zaragoza)       Aragon (Aude)\n",
       "3                    Vigo             Galicia\n",
       "4     Somozas (parroquia)             Galicia\n",
       "..                    ...                 ...\n",
       "195       Cuenca (España)  Castilla-La Mancha\n",
       "196     Cuenca (distrito)  Castilla-La Mancha\n",
       "197           Puertollano  Castilla-La Mancha\n",
       "198              Sigüenza  Castilla-La Mancha\n",
       "199  Bolaños de Calatrava  Castilla-La Mancha\n",
       "\n",
       "[200 rows x 2 columns]"
      ]
     },
     "execution_count": 181,
     "metadata": {},
     "output_type": "execute_result"
    }
   ],
   "source": [
    "ccaa_city"
   ]
  },
  {
   "cell_type": "markdown",
   "metadata": {},
   "source": [
    "3. Diferencia de altura mínima entre la ciudad más alta y más baja (con una altitud entre 100 y 789 msnm)"
   ]
  },
  {
   "cell_type": "code",
   "execution_count": 114,
   "metadata": {},
   "outputs": [
    {
     "name": "stdout",
     "output_type": "stream",
     "text": [
      "Minimum height difference between the highest and the lowest city (with an altitude between 100 and 789) is 670 meters over sea level\n"
     ]
    }
   ],
   "source": [
    "height_difference = endpoint.select(\"\"\"\n",
    "SELECT (MAX(?elevation) - MIN(?elevation) AS ?height_difference)\n",
    "WHERE{\n",
    "    \n",
    "    ?city rdf:type dbo:City .\n",
    "    ?city dbo:country dbr:Spain .\n",
    "    ?city dbo:elevation ?elevation .\n",
    "    FILTER(?elevation >= 100 && ?elevation<=789)\n",
    "    \n",
    "}\n",
    "\"\"\")\n",
    "\n",
    "print('Minimum height difference between the highest and the lowest city (with an altitude between 100 and 789) is', height_difference['height_difference'][0], 'meters over sea level')"
   ]
  },
  {
   "cell_type": "markdown",
   "metadata": {},
   "source": [
    "4. Poblaciones de la CCAA de Cantabria "
   ]
  },
  {
   "cell_type": "code",
   "execution_count": 109,
   "metadata": {},
   "outputs": [],
   "source": [
    "villages_of_cantabria = endpoint.select(\"\"\"\n",
    "SELECT ?villages\n",
    "WHERE{\n",
    "?villages a dbo:PopulatedPlace .\n",
    "?villages dbo:subdivision dbr:Cantabria .\n",
    "}\n",
    "\"\"\")"
   ]
  },
  {
   "cell_type": "code",
   "execution_count": 111,
   "metadata": {},
   "outputs": [
    {
     "data": {
      "text/html": [
       "<div>\n",
       "<style scoped>\n",
       "    .dataframe tbody tr th:only-of-type {\n",
       "        vertical-align: middle;\n",
       "    }\n",
       "\n",
       "    .dataframe tbody tr th {\n",
       "        vertical-align: top;\n",
       "    }\n",
       "\n",
       "    .dataframe thead th {\n",
       "        text-align: right;\n",
       "    }\n",
       "</style>\n",
       "<table border=\"1\" class=\"dataframe\">\n",
       "  <thead>\n",
       "    <tr style=\"text-align: right;\">\n",
       "      <th></th>\n",
       "      <th>villages</th>\n",
       "    </tr>\n",
       "  </thead>\n",
       "  <tbody>\n",
       "    <tr>\n",
       "      <th>0</th>\n",
       "      <td>&lt;Ampuero&gt;</td>\n",
       "    </tr>\n",
       "    <tr>\n",
       "      <th>1</th>\n",
       "      <td>&lt;Val_de_San_Vicente&gt;</td>\n",
       "    </tr>\n",
       "    <tr>\n",
       "      <th>2</th>\n",
       "      <td>&lt;Valdeolea&gt;</td>\n",
       "    </tr>\n",
       "    <tr>\n",
       "      <th>3</th>\n",
       "      <td>&lt;Valdeprado_del_Río&gt;</td>\n",
       "    </tr>\n",
       "    <tr>\n",
       "      <th>4</th>\n",
       "      <td>&lt;Valderredible&gt;</td>\n",
       "    </tr>\n",
       "  </tbody>\n",
       "</table>\n",
       "</div>"
      ],
      "text/plain": [
       "               villages\n",
       "0             <Ampuero>\n",
       "1  <Val_de_San_Vicente>\n",
       "2           <Valdeolea>\n",
       "3  <Valdeprado_del_Río>\n",
       "4       <Valderredible>"
      ]
     },
     "execution_count": 111,
     "metadata": {},
     "output_type": "execute_result"
    }
   ],
   "source": [
    "villages_of_cantabria.head()"
   ]
  },
  {
   "cell_type": "markdown",
   "metadata": {},
   "source": [
    "5. Obtener la población total de Londres "
   ]
  },
  {
   "cell_type": "code",
   "execution_count": 105,
   "metadata": {},
   "outputs": [
    {
     "name": "stdout",
     "output_type": "stream",
     "text": [
      "There are 9002488 citizens in London\n"
     ]
    }
   ],
   "source": [
    "london_population = endpoint.select(\"\"\"\n",
    "SELECT ?population\n",
    "WHERE {\n",
    "  dbr:London dbo:populationTotal ?population .\n",
    "}\n",
    "\"\"\")\n",
    "\n",
    "print('There are', london_population['population'][0], 'citizens in London')"
   ]
  },
  {
   "cell_type": "markdown",
   "metadata": {},
   "source": [
    "6. Gente que nació en Londres antes de 1905 "
   ]
  },
  {
   "cell_type": "code",
   "execution_count": 118,
   "metadata": {},
   "outputs": [],
   "source": [
    "# Problemas con la fecha\n",
    "london_born_before_1905 = endpoint.select(\"\"\"\n",
    "SELECT DISTINCT ?person ?birthDate\n",
    "WHERE {\n",
    "    ?person dbo:birthPlace dbr:London .\n",
    "    ?person dbo:birthDate ?birthDate .\n",
    "    FILTER (year(?birthDate) < 1905)\n",
    "}\n",
    "ORDER BY DESC(?birthDate)\n",
    "\"\"\")"
   ]
  },
  {
   "cell_type": "markdown",
   "metadata": {},
   "source": [
    "7. Nombre y fechas de nacimiento y de muerte de toda la gente nacida en Londres entre 1910 y 1960. "
   ]
  },
  {
   "cell_type": "code",
   "execution_count": 120,
   "metadata": {},
   "outputs": [],
   "source": [
    "# Problemas con la fecha\n",
    "london_bornAndDeath_btwn_1910_1960 = endpoint.select(\"\"\"\n",
    "SELECT DISTINCT ?person_name ?birth_date ?death_date\n",
    "WHERE {\n",
    "  ?person dbo:birthPlace dbr:London .\n",
    "  ?person rdfs:label ?person_name .\n",
    "  ?person dbo:birthDate ?birth_date .\n",
    "  ?person dbo:deathDate ?death_date .\n",
    "  FILTER (LANG(?person_name) = \"en\")\n",
    "  FILTER (xsd:date(?birth_date) >= \"1910-01-01\"^^xsd:date && xsd:date(?birth_date) <= \"1960-12-31\"^^xsd:date)\n",
    "} LIMIT 1000\n",
    "\"\"\")"
   ]
  },
  {
   "cell_type": "markdown",
   "metadata": {},
   "source": [
    "8. Nombre y fecha de nacimiento de los actores nacidos en Londres después de 1933 que siguen vivos."
   ]
  },
  {
   "cell_type": "code",
   "execution_count": 132,
   "metadata": {},
   "outputs": [],
   "source": [
    "# Problemas con la fecha\n",
    "london_actors = endpoint.select(\"\"\"\n",
    "SELECT DISTINCT ?actor_name ?birth_date\n",
    "WHERE {\n",
    "  ?actor a dbo:Person ;\n",
    "         dbo:birthPlace dbr:London ;\n",
    "         dbo:birthDate ?birth_date ;\n",
    "         dbo:occupation dbr:Actor ;\n",
    "         foaf:name ?actor_name .\n",
    "FILTER (LANG(?actor_name) = \"en\")\n",
    "FILTER (?birth_date > \"1933-01-01\"^^xsd:date)\n",
    "OPTIONAL{?actor dbo:deathDate ?death_date . }\n",
    "FILTER (!bound(?death_date))\n",
    "}\n",
    "\"\"\")"
   ]
  },
  {
   "cell_type": "markdown",
   "metadata": {},
   "source": [
    "9. Fotos de 10 de los actores nacidos en Londres después de 1933 que siguen vivos."
   ]
  },
  {
   "cell_type": "code",
   "execution_count": 149,
   "metadata": {},
   "outputs": [
    {
     "data": {
      "text/html": [
       "<div>\n",
       "<style scoped>\n",
       "    .dataframe tbody tr th:only-of-type {\n",
       "        vertical-align: middle;\n",
       "    }\n",
       "\n",
       "    .dataframe tbody tr th {\n",
       "        vertical-align: top;\n",
       "    }\n",
       "\n",
       "    .dataframe thead th {\n",
       "        text-align: right;\n",
       "    }\n",
       "</style>\n",
       "<table border=\"1\" class=\"dataframe\">\n",
       "  <thead>\n",
       "    <tr style=\"text-align: right;\">\n",
       "      <th></th>\n",
       "      <th>actor_name</th>\n",
       "      <th>photo</th>\n",
       "    </tr>\n",
       "  </thead>\n",
       "  <tbody>\n",
       "    <tr>\n",
       "      <th>0</th>\n",
       "      <td>Daniel Roche</td>\n",
       "      <td>http://commons.wikimedia.org/wiki/Special:FilePath/Daniel_Roche_2015.jpg</td>\n",
       "    </tr>\n",
       "    <tr>\n",
       "      <th>1</th>\n",
       "      <td>Danny Lee Wynter</td>\n",
       "      <td>http://commons.wikimedia.org/wiki/Special:FilePath/Danny_Lee_Wynter.jpg</td>\n",
       "    </tr>\n",
       "    <tr>\n",
       "      <th>2</th>\n",
       "      <td>David Wayman</td>\n",
       "      <td>http://commons.wikimedia.org/wiki/Special:FilePath/Davidwaymanraindancearrival.jpg</td>\n",
       "    </tr>\n",
       "    <tr>\n",
       "      <th>3</th>\n",
       "      <td>Ashley Chin</td>\n",
       "      <td>http://commons.wikimedia.org/wiki/Special:FilePath/AshleyChinOctober2019.png</td>\n",
       "    </tr>\n",
       "    <tr>\n",
       "      <th>4</th>\n",
       "      <td>Bel Powley</td>\n",
       "      <td>http://commons.wikimedia.org/wiki/Special:FilePath/Bel_Powley_at_Diary_of_a_Teenage_Girl_premier...</td>\n",
       "    </tr>\n",
       "    <tr>\n",
       "      <th>5</th>\n",
       "      <td>Bel Powley</td>\n",
       "      <td>http://commons.wikimedia.org/wiki/Special:FilePath/Bel_Powley_by_Patrick_Lovell,_February_2020_(...</td>\n",
       "    </tr>\n",
       "    <tr>\n",
       "      <th>6</th>\n",
       "      <td>Sanjeev Bhaskar</td>\n",
       "      <td>http://commons.wikimedia.org/wiki/Special:FilePath/Sanjeev_Bhaskar_Asian_Awards_2015.jpg</td>\n",
       "    </tr>\n",
       "    <tr>\n",
       "      <th>7</th>\n",
       "      <td>Tara Sharma</td>\n",
       "      <td>http://commons.wikimedia.org/wiki/Special:FilePath/Tara_promotes_'10ml_Love'.jpg</td>\n",
       "    </tr>\n",
       "    <tr>\n",
       "      <th>8</th>\n",
       "      <td>Emer Kenny</td>\n",
       "      <td>http://commons.wikimedia.org/wiki/Special:FilePath/Emer_Kenny.jpg</td>\n",
       "    </tr>\n",
       "    <tr>\n",
       "      <th>9</th>\n",
       "      <td>Marianne Jean-Baptiste</td>\n",
       "      <td>http://commons.wikimedia.org/wiki/Special:FilePath/Marianne_Jean_Baptiste_by_RealTVfilms.jpg</td>\n",
       "    </tr>\n",
       "  </tbody>\n",
       "</table>\n",
       "</div>"
      ],
      "text/plain": [
       "               actor_name  \\\n",
       "0            Daniel Roche   \n",
       "1        Danny Lee Wynter   \n",
       "2            David Wayman   \n",
       "3             Ashley Chin   \n",
       "4              Bel Powley   \n",
       "5              Bel Powley   \n",
       "6         Sanjeev Bhaskar   \n",
       "7             Tara Sharma   \n",
       "8              Emer Kenny   \n",
       "9  Marianne Jean-Baptiste   \n",
       "\n",
       "                                                                                                 photo  \n",
       "0                             http://commons.wikimedia.org/wiki/Special:FilePath/Daniel_Roche_2015.jpg  \n",
       "1                              http://commons.wikimedia.org/wiki/Special:FilePath/Danny_Lee_Wynter.jpg  \n",
       "2                   http://commons.wikimedia.org/wiki/Special:FilePath/Davidwaymanraindancearrival.jpg  \n",
       "3                         http://commons.wikimedia.org/wiki/Special:FilePath/AshleyChinOctober2019.png  \n",
       "4  http://commons.wikimedia.org/wiki/Special:FilePath/Bel_Powley_at_Diary_of_a_Teenage_Girl_premier...  \n",
       "5  http://commons.wikimedia.org/wiki/Special:FilePath/Bel_Powley_by_Patrick_Lovell,_February_2020_(...  \n",
       "6             http://commons.wikimedia.org/wiki/Special:FilePath/Sanjeev_Bhaskar_Asian_Awards_2015.jpg  \n",
       "7                     http://commons.wikimedia.org/wiki/Special:FilePath/Tara_promotes_'10ml_Love'.jpg  \n",
       "8                                    http://commons.wikimedia.org/wiki/Special:FilePath/Emer_Kenny.jpg  \n",
       "9         http://commons.wikimedia.org/wiki/Special:FilePath/Marianne_Jean_Baptiste_by_RealTVfilms.jpg  "
      ]
     },
     "execution_count": 149,
     "metadata": {},
     "output_type": "execute_result"
    }
   ],
   "source": [
    "actors = endpoint.select(\"\"\"\n",
    "SELECT DISTINCT ?actor_name ?photo\n",
    "WHERE {\n",
    "  ?actor a dbo:Person ;\n",
    "         dbo:birthPlace dbr:London ;\n",
    "         dbo:birthDate ?birth_date ;\n",
    "         dbo:occupation dbr:Actor ;\n",
    "         foaf:name ?actor_name ;\n",
    "         foaf:depiction ?photo .\n",
    "FILTER (LANG(?actor_name) = \"en\")\n",
    "FILTER (?birth_date > \"1933-01-01\"^^xsd:date)\n",
    "OPTIONAL{?actor dbo:deathDate ?death_date . }\n",
    "FILTER (!bound(?death_date))\n",
    "}\n",
    "\"\"\")\n",
    "actors.head(10)"
   ]
  },
  {
   "cell_type": "code",
   "execution_count": 147,
   "metadata": {
    "scrolled": true
   },
   "outputs": [
    {
     "data": {
      "text/html": [
       "<img src=\"http://commons.wikimedia.org/wiki/Special:FilePath/AshleyChinOctober2019.png\">"
      ],
      "text/plain": [
       "<IPython.core.display.HTML object>"
      ]
     },
     "execution_count": 147,
     "metadata": {},
     "output_type": "execute_result"
    }
   ],
   "source": [
    "HTML('<img src=\"{0}\">'.format(actors.at[3,'photo']))"
   ]
  },
  {
   "cell_type": "markdown",
   "metadata": {},
   "source": [
    "10 . Diagrama de barras de las 10 peliculas más largas con un presupuesto mayor de 1M"
   ]
  },
  {
   "cell_type": "code",
   "execution_count": 178,
   "metadata": {
    "scrolled": true
   },
   "outputs": [
    {
     "data": {
      "text/html": [
       "<div>\n",
       "<style scoped>\n",
       "    .dataframe tbody tr th:only-of-type {\n",
       "        vertical-align: middle;\n",
       "    }\n",
       "\n",
       "    .dataframe tbody tr th {\n",
       "        vertical-align: top;\n",
       "    }\n",
       "\n",
       "    .dataframe thead th {\n",
       "        text-align: right;\n",
       "    }\n",
       "</style>\n",
       "<table border=\"1\" class=\"dataframe\">\n",
       "  <thead>\n",
       "    <tr style=\"text-align: right;\">\n",
       "      <th></th>\n",
       "      <th>film_name</th>\n",
       "      <th>runtime</th>\n",
       "      <th>budget</th>\n",
       "    </tr>\n",
       "  </thead>\n",
       "  <tbody>\n",
       "    <tr>\n",
       "      <th>0</th>\n",
       "      <td>Berlin Alexanderplatz (miniseries)</td>\n",
       "      <td>55860</td>\n",
       "      <td>13000000.0</td>\n",
       "    </tr>\n",
       "    <tr>\n",
       "      <th>1</th>\n",
       "      <td>Berlin Alexanderplatz (miniseries)</td>\n",
       "      <td>53640</td>\n",
       "      <td>13000000.0</td>\n",
       "    </tr>\n",
       "    <tr>\n",
       "      <th>2</th>\n",
       "      <td>Jaws (franchise)</td>\n",
       "      <td>28680</td>\n",
       "      <td>80000000.0</td>\n",
       "    </tr>\n",
       "    <tr>\n",
       "      <th>3</th>\n",
       "      <td>O.J.: Made in America</td>\n",
       "      <td>28020</td>\n",
       "      <td>5000000.0</td>\n",
       "    </tr>\n",
       "    <tr>\n",
       "      <th>4</th>\n",
       "      <td>Kyaa Kool Hain Hum (film series)</td>\n",
       "      <td>26040</td>\n",
       "      <td>50.0</td>\n",
       "    </tr>\n",
       "  </tbody>\n",
       "</table>\n",
       "</div>"
      ],
      "text/plain": [
       "                            film_name  runtime      budget\n",
       "0  Berlin Alexanderplatz (miniseries)    55860  13000000.0\n",
       "1  Berlin Alexanderplatz (miniseries)    53640  13000000.0\n",
       "2                    Jaws (franchise)    28680  80000000.0\n",
       "3               O.J.: Made in America    28020   5000000.0\n",
       "4    Kyaa Kool Hain Hum (film series)    26040        50.0"
      ]
     },
     "execution_count": 178,
     "metadata": {},
     "output_type": "execute_result"
    }
   ],
   "source": [
    "longest_and_expensive_films = endpoint.select(\"\"\"\n",
    "SELECT ?film_name ?runtime ?budget\n",
    "WHERE {\n",
    "  ?film rdf:type dbo:Film ;\n",
    "        rdfs:label ?film_name ;\n",
    "        dbo:budget ?budget ;\n",
    "        dbo:runtime ?runtime .\n",
    "  FILTER (LANG(?film_name) = \"en\")\n",
    "  FILTER (?budget > 1000000)\n",
    "}\n",
    "ORDER BY DESC(?runtime)\n",
    "LIMIT 11\n",
    "\n",
    "\"\"\")\n",
    "longest_and_expensive_films.head()"
   ]
  },
  {
   "cell_type": "code",
   "execution_count": 179,
   "metadata": {},
   "outputs": [
    {
     "data": {
      "image/png": "[encoded data removed]",
      "text/plain": [
       "<Figure size 640x480 with 1 Axes>"
      ]
     },
     "metadata": {},
     "output_type": "display_data"
    }
   ],
   "source": [
    "# Diagrama de barras\n",
    "plt.bar(longest_and_expensive_films['film_name'], longest_and_expensive_films['runtime'])\n",
    "plt.xlabel('Film names')\n",
    "plt.ylabel('runtime (seconds)')\n",
    "plt.title('10 longest films with a budget > 1M')\n",
    "plt.xticks(rotation=90)\n",
    "plt.show()"
   ]
  }
 ],
 "metadata": {
  "kernelspec": {
   "display_name": "Python 3 (ipykernel)",
   "language": "python",
   "name": "python3"
  },
  "language_info": {
   "codemirror_mode": {
    "name": "ipython",
    "version": 3
   },
   "file_extension": ".py",
   "mimetype": "text/x-python",
   "name": "python",
   "nbconvert_exporter": "python",
   "pygments_lexer": "ipython3",
   "version": "3.10.6"
  }
 },
 "nbformat": 4,
 "nbformat_minor": 4
}
